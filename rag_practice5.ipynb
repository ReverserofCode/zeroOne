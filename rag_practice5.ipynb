{
 "cells": [
  {
   "cell_type": "code",
   "execution_count": 1,
   "metadata": {},
   "outputs": [
    {
     "data": {
      "text/plain": [
       "True"
      ]
     },
     "execution_count": 1,
     "metadata": {},
     "output_type": "execute_result"
    }
   ],
   "source": [
    "from dotenv import load_dotenv\n",
    "\n",
    "load_dotenv()"
   ]
  },
  {
   "cell_type": "code",
   "execution_count": 5,
   "metadata": {},
   "outputs": [],
   "source": [
    "import time\n",
    "import textwrap\n",
    "\n",
    "from langchain import hub\n",
    "from langchain_openai import ChatOpenAI\n",
    "from langchain.output_parsers.json import SimpleJsonOutputParser\n",
    "from langchain.document_loaders import WebBaseLoader\n",
    "from langchain.schema.runnable import RunnablePassthrough\n",
    "\n",
    "loader = WebBaseLoader(\"https://teddylee777.github.io/data-science/optuna/\")\n",
    "docs = loader.load()\n",
    "content = docs[0].page_content\n",
    "\n",
    "prompt = hub.pull(\"lawwu/chain_of_density\")\n",
    "json_parser = SimpleJsonOutputParser()"
   ]
  },
  {
   "cell_type": "code",
   "execution_count": 7,
   "metadata": {},
   "outputs": [
    {
     "data": {
      "text/plain": [
       "[{'Missing_Entities': 'Optuna',\n",
       "  'Denser_Summary': 'This article discusses Optuna, a hyperparameter optimization framework. Optuna is a powerful tool for optimizing machine learning models. It provides various methods for suggesting hyperparameters, such as suggest_categorical, suggest_int, and suggest_float. By using Optuna, you can efficiently search for the best set of hyperparameters for your model.'},\n",
       " {'Missing_Entities': 'study',\n",
       "  'Denser_Summary': 'This article discusses Optuna, a hyperparameter optimization framework. Optuna provides a study object that allows you to optimize your model by suggesting hyperparameters. You can create a study object and use the optimize() method to search for the best set of hyperparameters. The study object keeps track of the trials and their results, allowing you to easily analyze and compare different hyperparameter configurations.'},\n",
       " {'Missing_Entities': 'objective function',\n",
       "  'Denser_Summary': 'This article discusses Optuna, a hyperparameter optimization framework. In order to use Optuna, you need to define an objective function. The objective function takes a set of hyperparameters as input and returns a value that represents the performance of the model. Optuna uses this objective function to search for the best set of hyperparameters by iteratively suggesting new configurations and evaluating their performance.'},\n",
       " {'Missing_Entities': 'RandomForestRegressor',\n",
       "  'Denser_Summary': \"This article discusses Optuna, a hyperparameter optimization framework. Optuna can be used with various machine learning models, such as RandomForestRegressor. You can define the hyperparameters of the RandomForestRegressor model as search spaces using Optuna's suggest methods. Optuna will then search for the best combination of hyperparameters to optimize the performance of the RandomForestRegressor model.\"},\n",
       " {'Missing_Entities': 'mean_squared_error',\n",
       "  'Denser_Summary': 'This article discusses Optuna, a hyperparameter optimization framework. When using Optuna to optimize a machine learning model, you need to define an evaluation metric. For example, you can use the mean_squared_error metric to evaluate the performance of the model. Optuna will then search for the hyperparameters that minimize the mean squared error, resulting in a model with improved performance.'}]"
      ]
     },
     "execution_count": 7,
     "metadata": {},
     "output_type": "execute_result"
    }
   ],
   "source": [
    "chain = (\n",
    "    {\"ARTICLE\": RunnablePassthrough()}\n",
    "    |prompt\n",
    "    |ChatOpenAI(model=\"gpt-3.5-turbo-16k\",temperature=0.1)\n",
    "    |json_parser\n",
    ")\n",
    "chain.invoke(content)"
   ]
  },
  {
   "cell_type": "code",
   "execution_count": 13,
   "metadata": {},
   "outputs": [
    {
     "name": "stdout",
     "output_type": "stream",
     "text": [
      "```json\n",
      "[\n",
      "    {\n",
      "        \"Missing_Entities\": \"\",\n",
      "        \"Denser_Summary\": \"이 기사는 최근 배달의민족 앱 사용자 수가 급감한 현상에 대해 다루고 있습니다. 이러한 사용자 이탈은 주로 수수료 인상으로 인한 음식 가격 상승 때문으로 보입니다. 특히 20대 사용자의 이탈이 두드러지며, 이는 배달의민족 앱의 주간 활성 이용자 수가 올해 최저치를 기록한 것과 관련이 있습니다. 배달의민족은 수수료를 인상하겠다고 발표한 후, 이에 대한 역풍을 맞고 있으며, 이는 최종적으로 소비자에게 피해가 돌아가는 상황입니다. 이와 관련하여 외식업주들과 시민단체들은 수수료 인상에 대해 규탄하고 있으며, 배달의민족 내부에서도 수수료 인상 결정에 대한 비판의 목소리가 나오고 있습니다.\"\n",
      "    },\n",
      "    {\n",
      "        \"Missing_Entities\": \"배달의민족 중개 수수료 인상안; 독일 딜리버리히어로(DH) 모기업; 공정거래위원회 현장 조사\",\n",
      "        \"Denser_Summary\": \"배달의민족 앱 사용자 수가 급감하고 있으며, 이는 수수료 인상으로 인한 음식 가격 상승 때문입니다. 특히 20대 사용자의 이탈이 두드러지며, 배달의민족은 중개 수수료 인상안 발표 후 역풍을 맞고 있습니다. 이로 인해 외식업주들과 시민단체들이 수수료 인상을 규탄하고 있으며, 독일 딜리버리히어로(DH) 모기업에 대한 비판도 제기되고 있습니다. 또한, 공정거래위원회는 배달의민족에 대한 현장 조사를 진행하고 있습니다.\"\n",
      "    },\n",
      "    {\n",
      "        \"Missing_Entities\": \"배달의민족 앱 주간 활성 이용자 수 최저치 기록; 20대 이용자수 약 7% 감소\",\n",
      "        \"Denser_Summary\": \"배달의민족 앱 사용자 수가 급감, 특히 20대 이탈이 두드러지며 주간 활성 이용자 수가 최저치를 기록했습니다. 이는 수수료 인상으로 인한 음식 가격 상승 때문이며, 중개 수수료 인상안 발표 후 역풍을 맞고 있습니다. 외식업주들과 시민단체들이 수수료 인상을 규탄하고, 독일 딜리버리히어로(DH) 모기업에 대한 비판도 제기되고 있습니다. 공정거래위원회는 배달의민족에 대한 현장 조사를 진행 중입니다.\"\n",
      "    },\n",
      "    {\n",
      "        \"Missing_Entities\": \"배달의민족 수수료 9.8%; 쿠팡이츠, 요기요와 비슷한 수준\",\n",
      "        \"Denser_Summary\": \"배달의민족 앱 사용자 수 급감, 특히 20대 이탈이 두드러지며 주간 활성 이용자 수 최저치 기록. 수수료 인상으로 인한 음식 가격 상승이 원인이며, 중개 수수료 인상안 발표 후 역풍을 맞고 있습니다. 배달의민족 수수료 9.8%로 쿠팡이츠, 요기요와 비슷한 수준이나 업계 내 비판이 이어지고 있습니다. 외식업주들과 시민단체들이 수수료 인상을 규탄하고, 공정거래위원회는 현장 조사를 진행 중입니다.\"\n",
      "    },\n",
      "    {\n",
      "        \"Missing_Entities\": \"배달의민족 60% 이상 점유율; 2022년 4241억원, 2023년 6998억원 이익\",\n",
      "        \"Denser_Summary\": \"배달의민족 앱 사용자 수 급감, 20대 이탈 두드러지며 주간 활성 이용자 수 최저치 기록. 수수료 인상으로 음식 가격 상승이 원인. 중개 수수료 9.8%로 쿠팡이츠, 요기요와 비슷하나, 배달의민족 60% 이상 점유율로 업계 내 비판. 2022년 4241억원, 2023년 6998억원 이익 기록. 외식업주들, 시민단체들 수수료 인상 규탄, 공정거래위원회 현장 조사 진행 중.\"\n",
      "    }\n",
      "]\n",
      "```배달의민족 앱 사용자 수 급감, 20대 이탈 두드러지며 주간 활성 이용자 수 최저치 기록. 수수료 인상으로 음식 가격 상승이 원인. 중개 수수료 9.8%로 쿠팡이츠, 요기요와 비슷하나, 배달의민족 60% 이상 점유율로 업계 내 비판. 2022년 4241억원, 2023년 6998억원 이익 기록. 외식업주들, 시민단체들 수수료 인상 규탄, 공정거래위원회 현장 조사 진행 중.\n"
     ]
    }
   ],
   "source": [
    "from langchain import hub\n",
    "from langchain_openai import ChatOpenAI\n",
    "from langchain_core.output_parsers import StrOutputParser, JsonOutputParser\n",
    "from langchain.document_loaders import WebBaseLoader\n",
    "from langchain_core.prompts import ChatPromptTemplate\n",
    "from langchain.callbacks.base import BaseCallbackHandler\n",
    "import json\n",
    "\n",
    "loader = WebBaseLoader(\n",
    "    \"https://n.news.naver.com/mnews/article/016/0002339719\"\n",
    ")\n",
    "\n",
    "docs = loader.load()\n",
    "content = docs[0].page_content\n",
    "\n",
    "class StreamCallback(BaseCallbackHandler):\n",
    "    def on_llm_new_token(self, token, **kwargs):\n",
    "        print(token,end=\"\",flush=True)\n",
    "\n",
    "prompt = ChatPromptTemplate.from_template(\n",
    "    \"\"\"Article: {ARTICLE}\n",
    "You will generate increasingly concise, entity-dense summaries of the above article. \n",
    "\n",
    "Repeat the following 2 steps 5 times. \n",
    "\n",
    "Step 1. Identify 1-3 informative entities (\";\" delimited) from the article which are missing from the previously generated summary. \n",
    "Step 2. Write a new, denser summary of identical length which covers every entity and detail from the previous summary plus the missing entities. \n",
    "\n",
    "A missing entity is:\n",
    "- relevant to the main story, \n",
    "- specific yet concise (50 words or fewer), \n",
    "- novel (not in the previous summary), \n",
    "- faithful (present in the article), \n",
    "- anywhere (can be located anywhere in the article).\n",
    "\n",
    "Guidelines:\n",
    "\n",
    "- The first summary should be long (8-10 sentences, ~200 words) yet highly non-specific, containing little information beyond the entities marked as missing. Use overly verbose language and fillers (e.g., \"this article discusses\") to reach ~200 words.\n",
    "- Make every word count: rewrite the previous summary to improve flow and make space for additional entities.\n",
    "- Make space with fusion, compression, and removal of uninformative phrases like \"the article discusses\".\n",
    "- The summaries should become highly dense and concise yet self-contained, i.e., easily understood without the article. \n",
    "- Missing entities can appear anywhere in the new summary.\n",
    "- Never drop entities from the previous summary. If space cannot be made, add fewer new entities. \n",
    "\n",
    "Remember, use the exact same number of words for each summary.\n",
    "Answer in JSON. The JSON should be a list (length 5) of dictionaries whose keys are \"Missing_Entities\" and \"Denser_Summary\".\n",
    "Use only KOREAN language to reply.\"\"\"\n",
    ")\n",
    "\n",
    "\n",
    "chain = (\n",
    "    prompt\n",
    "    | ChatOpenAI(\n",
    "        temperature=0,\n",
    "        model=\"gpt-4-turbo-preview\",\n",
    "        streaming=True,\n",
    "        callbacks=[StreamCallback()],\n",
    "    )\n",
    "    | JsonOutputParser()\n",
    "    | (lambda x: x[-1][\"Denser_Summary\"])\n",
    ")\n",
    "\n",
    "result = chain.invoke({\"ARTICLE\": content})\n",
    "print(result)"
   ]
  },
  {
   "cell_type": "code",
   "execution_count": null,
   "metadata": {},
   "outputs": [],
   "source": []
  }
 ],
 "metadata": {
  "kernelspec": {
   "display_name": "ragenv",
   "language": "python",
   "name": "python3"
  },
  "language_info": {
   "codemirror_mode": {
    "name": "ipython",
    "version": 3
   },
   "file_extension": ".py",
   "mimetype": "text/x-python",
   "name": "python",
   "nbconvert_exporter": "python",
   "pygments_lexer": "ipython3",
   "version": "3.11.7"
  }
 },
 "nbformat": 4,
 "nbformat_minor": 2
}

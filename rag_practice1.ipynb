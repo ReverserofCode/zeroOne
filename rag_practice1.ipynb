{
 "cells": [
  {
   "cell_type": "code",
   "execution_count": 1,
   "metadata": {},
   "outputs": [
    {
     "data": {
      "text/plain": [
       "True"
      ]
     },
     "execution_count": 1,
     "metadata": {},
     "output_type": "execute_result"
    }
   ],
   "source": [
    "from dotenv import load_dotenv\n",
    "\n",
    "load_dotenv()"
   ]
  },
  {
   "cell_type": "code",
   "execution_count": 2,
   "metadata": {},
   "outputs": [
    {
     "name": "stdout",
     "output_type": "stream",
     "text": [
      "LangSmith 추적을 시작합니다.\n",
      "[프로젝트명]\n",
      "CH12-RAG\n"
     ]
    }
   ],
   "source": [
    "from langchain_teddynote import logging\n",
    "\n",
    "logging.langsmith(\"CH12-RAG\")\n"
   ]
  },
  {
   "cell_type": "code",
   "execution_count": 2,
   "metadata": {},
   "outputs": [
    {
     "name": "stdout",
     "output_type": "stream",
     "text": [
      "삼성전자가 자체 개발한 AI의 이름은 '삼성 가우스'입니다.\n"
     ]
    }
   ],
   "source": [
    "from langchain_text_splitters import RecursiveCharacterTextSplitter\n",
    "from langchain_community.document_loaders import PyMuPDFLoader\n",
    "from langchain_community.vectorstores import FAISS\n",
    "from langchain_core.output_parsers import StrOutputParser\n",
    "from langchain_core.runnables import RunnablePassthrough\n",
    "from langchain_core.prompts import PromptTemplate\n",
    "from langchain_openai import ChatOpenAI, OpenAIEmbeddings\n",
    "\n",
    "# 문서 로드\n",
    "loader = PyMuPDFLoader(\"12-RAG/data/SPRI_AI_Brief_2023년12월호_F.pdf\")\n",
    "docs = loader.load()\n",
    "\n",
    "# 문서 분할\n",
    "text_spliter = RecursiveCharacterTextSplitter(\n",
    "    chunk_size=1000, chunk_overlap=50)\n",
    "split_documents = text_spliter.split_documents(docs)\n",
    "\n",
    "\n",
    "# 임베딩\n",
    "embeddings = OpenAIEmbeddings()\n",
    "\n",
    "# DB 생성 및 저장\n",
    "# 벡터 스토어 생성\n",
    "vectorstore = FAISS.from_documents(\n",
    "    documents=split_documents, embedding=embeddings)\n",
    "\n",
    "# 문서에 포함된 정보를 검색하고 생성한다.\n",
    "retriver = vectorstore.as_retriever()\n",
    "\n",
    "# 프롬프트 생성\n",
    "prompt = PromptTemplate.from_template(\n",
    "    \"\"\"You are an assistant for question-answering tasks. \n",
    "Use the following pieces of retrieved context to answer the question. \n",
    "If you don't know the answer, just say that you don't know. \n",
    "Answer in Korean.\n",
    "\n",
    "#Question: \n",
    "{question} \n",
    "#Context: \n",
    "{context} \n",
    "\n",
    "#Answer:\"\"\"\n",
    ")\n",
    "\n",
    "# 언어 모델 생성\n",
    "llm = ChatOpenAI(model_name=\"gpt-4o\", temperature=0)\n",
    "\n",
    "chain = (\n",
    "    {\"context\": retriver, \"question\": RunnablePassthrough()}\n",
    "    | prompt\n",
    "    | llm\n",
    "    | StrOutputParser()\n",
    ")\n",
    "\n",
    "question = \"삼성전자가 자체 개발한 AI의 이름은?\"\n",
    "response = chain.invoke(question)\n",
    "print(response)\n",
    "\n"
   ]
  },
  {
   "cell_type": "code",
   "execution_count": null,
   "metadata": {},
   "outputs": [],
   "source": []
  },
  {
   "cell_type": "code",
   "execution_count": 5,
   "metadata": {},
   "outputs": [
    {
     "name": "stdout",
     "output_type": "stream",
     "text": [
      "Z세대 청소년의 가치관은 급격한 사회 변화와 발전 속에서 자아정체감과 가치관이 확고하게 형성되지 않은 상태에서 새로운 의식구조와 행동양태를 형성하고 있습니다. 이들은 강한 독립심, 발전지향적 태도, 성취지향적 태도, 비판적 사회의식, 자유지향적 가치존중 등의 특징을 보이며, 이러한 가치관은 여전히 사회적으로 바람직한 것으로 평가받고 있습니다. 또한, 청소년에 대한 긍정적 접근이 필요하며, 청소년을 문제의 대상으로 보는 시각을 극복하고 그들의 긍정적 측면과 강점을 신뢰하는 것이 중요합니다.\n"
     ]
    }
   ],
   "source": [
    "from langchain_text_splitters import RecursiveCharacterTextSplitter\n",
    "from langchain_community.document_loaders import PyMuPDFLoader\n",
    "from langchain_community.vectorstores import FAISS\n",
    "from langchain_core.output_parsers import StrOutputParser\n",
    "from langchain_core.runnables import RunnablePassthrough\n",
    "from langchain_core.prompts import PromptTemplate\n",
    "from langchain_openai import ChatOpenAI, OpenAIEmbeddings\n",
    "\n",
    "# 문서 로드\n",
    "loader = PyMuPDFLoader(\"doc1.pdf\")\n",
    "docs = loader.load()\n",
    "\n",
    "# 문서 분할\n",
    "text_spliter = RecursiveCharacterTextSplitter(\n",
    "    chunk_size=10000, chunk_overlap=50)\n",
    "split_documents = text_spliter.split_documents(docs)\n",
    "\n",
    "# 임베딩\n",
    "embeddings = OpenAIEmbeddings()\n",
    "\n",
    "# DB 생성\n",
    "vectorstore = FAISS.from_documents(\n",
    "    documents=split_documents, embedding=embeddings)\n",
    "\n",
    "# 문서에 포함된 정보를 검색하고 생성한다.\n",
    "retriver = vectorstore.as_retriever()\n",
    "\n",
    "prompt = PromptTemplate.from_template(\n",
    "        \"\"\"\n",
    "        You are an assistant for question-answering tasks. \n",
    "Use the following pieces of retrieved context to answer the question. \n",
    "If you don't know the answer, just say that you don't know. \n",
    "Answer in Korean.\n",
    "    \n",
    "    #Question:\n",
    "    {question}\n",
    "    #Context:\n",
    "    {context}\n",
    "    \n",
    "    #Answer:\"\"\"\n",
    ")\n",
    "\n",
    "llm = ChatOpenAI(model_name=\"gpt-4o\", temperature=0)\n",
    "\n",
    "chain=(\n",
    "    {\"context\": retriver, \"question\":RunnablePassthrough()}\n",
    "    |prompt\n",
    "    |llm\n",
    "    |StrOutputParser()\n",
    ")\n",
    "\n",
    "question = \"z세대 청소년의 가치관은 어떻게 변화했습니까?\"\n",
    "response = chain.invoke(question)\n",
    "print(response)"
   ]
  },
  {
   "cell_type": "code",
   "execution_count": null,
   "metadata": {},
   "outputs": [],
   "source": []
  }
 ],
 "metadata": {
  "kernelspec": {
   "display_name": "myenv",
   "language": "python",
   "name": "python3"
  },
  "language_info": {
   "codemirror_mode": {
    "name": "ipython",
    "version": 3
   },
   "file_extension": ".py",
   "mimetype": "text/x-python",
   "name": "python",
   "nbconvert_exporter": "python",
   "pygments_lexer": "ipython3",
   "version": "3.11.7"
  }
 },
 "nbformat": 4,
 "nbformat_minor": 2
}
